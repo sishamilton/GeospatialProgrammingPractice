{
 "cells": [
  {
   "cell_type": "markdown",
   "id": "surrounded-triple",
   "metadata": {},
   "source": [
    "# Exercise 2\n",
    "\n",
    "## Problem 1: Create Polygon from lists of coordinates\n",
    "\n",
    "* Create a Polygon using the coordinates provided\n",
    "* Insert Polygon into a geodataframe\n",
    "* Save the Polygon to a Shapefile\n",
    "* Plot and save a figure of the polygon"
   ]
  },
  {
   "cell_type": "code",
   "execution_count": 43,
   "id": "photographic-separation",
   "metadata": {},
   "outputs": [],
   "source": [
    "import geopandas as gpd\n",
    "import matplotlib.pyplot as plt\n",
    "import pandas as pd\n",
    "from fiona.crs import from_epsg\n",
    "from shapely.geometry import Point, LineString, Polygon"
   ]
  },
  {
   "cell_type": "code",
   "execution_count": 11,
   "id": "respected-priority",
   "metadata": {},
   "outputs": [
    {
     "name": "stdout",
     "output_type": "stream",
     "text": [
      "(29.99671173095703, 63.748023986816406)\n"
     ]
    }
   ],
   "source": [
    "empty_var_to_be_replaced = None\n",
    "\n",
    "# X -coordinates \n",
    "xcoords = [29.99671173095703, 31.58196258544922, 27.738052368164062, 26.50013542175293, 26.652359008789062, 25.921663284301758, 22.90027618408203, 23.257217407226562,\n",
    "           23.335693359375, 22.87444305419922, 23.08465003967285, 22.565473556518555, 21.452774047851562, 21.66388702392578, 21.065969467163086, 21.67659568786621,\n",
    "           21.496871948242188, 22.339998245239258, 22.288192749023438, 24.539581298828125, 25.444232940673828, 25.303749084472656, 24.669166564941406, 24.689163208007812,\n",
    "           24.174999237060547, 23.68471908569336, 24.000761032104492, 23.57332992553711, 23.76513671875, 23.430830001831055, 23.6597900390625, 20.580928802490234, 21.320831298828125,\n",
    "           22.398330688476562, 23.97638702392578, 24.934917449951172, 25.7611083984375, 25.95930290222168, 26.476804733276367, 27.91069221496582, 29.1027774810791, 29.29846954345703,\n",
    "           28.4355525970459, 28.817358016967773, 28.459857940673828, 30.028610229492188, 29.075136184692383, 30.13492774963379, 29.818885803222656, 29.640830993652344, 30.57735824584961,\n",
    "           29.99671173095703]\n",
    "\n",
    "# Y -coordinates\n",
    "ycoords = [63.748023986816406, 62.90789794921875, 60.511383056640625, 60.44499588012695, 60.646385192871094, 60.243743896484375, 59.806800842285156, 59.91944122314453,\n",
    "           60.02395248413086, 60.14555358886719, 60.3452033996582, 60.211936950683594, 60.56249237060547, 61.54027557373047, 62.59798049926758, 63.02013397216797,\n",
    "           63.20353698730469, 63.27652359008789, 63.525691986083984, 64.79915618896484, 64.9533920288086, 65.51513671875, 65.65470886230469, 65.89610290527344, 65.79151916503906,\n",
    "           66.26332092285156, 66.80228424072266, 67.1570053100586, 67.4168701171875, 67.47978210449219, 67.94589233398438, 69.060302734375, 69.32611083984375, 68.71110534667969,\n",
    "           68.83248901367188, 68.580810546875, 68.98916625976562, 69.68568420410156, 69.9363784790039, 70.08860778808594, 69.70597076416016, 69.48533630371094, 68.90263366699219,\n",
    "           68.84700012207031, 68.53485107421875, 67.69471740722656, 66.90360260009766, 65.70887756347656, 65.6533203125, 64.92096710205078, 64.22373962402344, 63.748023986816406]\n",
    "\n",
    "# P1. Create a list of x and y coordinate pairs out of xcoords and ycoords\n",
    "# ------------------------------------------------------------------------\n",
    "# Coordinate pair can be either a tuple or a list.\n",
    "# The first coordinate pair in the 'coordpairs' -list should look like: (29.99671173095703, 63.748023986816406)\n",
    "# Hint: you might want to iterate over items in the lists using a for-loop\n",
    "\n",
    "coordpairs = [(xcoords[i],ycoords[i]) for i in range(len(ycoords))]\n",
    "print(coordpairs[0])"
   ]
  },
  {
   "cell_type": "code",
   "execution_count": 3,
   "id": "future-biography",
   "metadata": {},
   "outputs": [],
   "source": [
    "# P2. Create a shapely Polygon using the 'coordpairs' -list\n",
    "# ------------------------------------------------------------------------\n",
    "poly = Polygon(coordpairs)\n",
    "\n",
    "# P3. Create an empty GeoDataFrame\n",
    "# ---------------------------------\n",
    "geo = gpd.GeoDataFrame()\n",
    "\n",
    "# P4. Insert our 'poly' -polygon into the 'geo' GeoDataFrame using a column name 'geometry' \n",
    "# ------------------------------------------------------------------------------------------\n",
    "# Hint: Take advantage of .loc -function\n",
    "geo.loc[0, 'geometry'] = poly\n",
    "\n",
    "# P5. Save the GeoDataFrame into a new Shapefile called 'polygon.shp'\n",
    "# --------------------------------------------------------------------\n",
    "# Note: you do not need to define the coordinate reference system at this time\n",
    "geo.to_file(r\"./Outputs/polygon.shp\")"
   ]
  },
  {
   "cell_type": "code",
   "execution_count": 13,
   "id": "extended-greene",
   "metadata": {},
   "outputs": [
    {
     "data": {
      "image/png": "[encoded data removed]",
      "text/plain": [
       "<Figure size 432x288 with 1 Axes>"
      ]
     },
     "metadata": {
      "needs_background": "light"
     },
     "output_type": "display_data"
    }
   ],
   "source": [
    "# P6. Plot the polygon using taking advantage of the .plot() -function in GeoDataFrame. Save a PNG figure out of your plot.\n",
    "# -------------------------------------------------------------------------------------------------------------------------\n",
    "poly_plt = geo.plot()\n",
    "type(poly_plt)\n",
    "plt.savefig(r\"./Outputs/Polygon_Plot.png\")"
   ]
  },
  {
   "cell_type": "markdown",
   "id": "illegal-penny",
   "metadata": {},
   "source": [
    "## Problem 2: Points to map\n",
    "\n",
    "* Read `some_posts.csv` into memory using Pandas. \n",
    "* Create a geometry column. Insert point objects for each observation into the geometry column.\n",
    "* Convert the dataframe into a geodataframe.\n",
    "* Update the CRS to WGS84 (epsg code: 4326)\n",
    "* Save data to a Shapefile called `Kruger_posts.shp`.\n",
    "* Create a simple map of the points and save it to a png."
   ]
  },
  {
   "cell_type": "code",
   "execution_count": 36,
   "id": "greatest-sucking",
   "metadata": {},
   "outputs": [
    {
     "name": "stdout",
     "output_type": "stream",
     "text": [
      "         lat        lon         timestamp    userid\n",
      "0 -24.980792  31.484633  2015-07-07 03:02  66487960\n",
      "1 -25.499225  31.508906  2015-07-07 03:18  65281761\n",
      "2 -24.342578  30.930866  2015-03-07 03:38  90916112\n",
      "3 -24.854614  31.519718  2015-10-07 05:04  37959089\n",
      "4 -24.921069  31.520836  2015-10-07 05:19  27793716\n"
     ]
    }
   ],
   "source": [
    "some_posts = pd.read_csv(r\"./Resources/some_posts.csv\")\n",
    "print(some_posts.head(5))"
   ]
  },
  {
   "cell_type": "code",
   "execution_count": 37,
   "id": "circular-glenn",
   "metadata": {},
   "outputs": [
    {
     "name": "stdout",
     "output_type": "stream",
     "text": [
      "         lat        lon         timestamp    userid  \\\n",
      "0 -24.980792  31.484633  2015-07-07 03:02  66487960   \n",
      "1 -25.499225  31.508906  2015-07-07 03:18  65281761   \n",
      "2 -24.342578  30.930866  2015-03-07 03:38  90916112   \n",
      "3 -24.854614  31.519718  2015-10-07 05:04  37959089   \n",
      "4 -24.921069  31.520836  2015-10-07 05:19  27793716   \n",
      "\n",
      "                             geometry  \n",
      "0  POINT (31.484633302 -24.980792492)  \n",
      "1  POINT (31.508905612 -25.499224667)  \n",
      "2  POINT (30.930866066 -24.342578456)  \n",
      "3   POINT (31.519718439 -24.85461393)  \n",
      "4  POINT (31.520835558 -24.921068894)  \n"
     ]
    }
   ],
   "source": [
    "some_posts['geometry'] = some_posts.apply(lambda x: Point(x['lon'],x['lat']), axis=1)\n",
    "print(some_posts.head(5))"
   ]
  },
  {
   "cell_type": "code",
   "execution_count": 38,
   "id": "spare-effectiveness",
   "metadata": {},
   "outputs": [
    {
     "name": "stdout",
     "output_type": "stream",
     "text": [
      "         lat        lon         timestamp    userid  \\\n",
      "0 -24.980792  31.484633  2015-07-07 03:02  66487960   \n",
      "1 -25.499225  31.508906  2015-07-07 03:18  65281761   \n",
      "2 -24.342578  30.930866  2015-03-07 03:38  90916112   \n",
      "3 -24.854614  31.519718  2015-10-07 05:04  37959089   \n",
      "4 -24.921069  31.520836  2015-10-07 05:19  27793716   \n",
      "\n",
      "                     geometry  \n",
      "0  POINT (31.48463 -24.98079)  \n",
      "1  POINT (31.50891 -25.49922)  \n",
      "2  POINT (30.93087 -24.34258)  \n",
      "3  POINT (31.51972 -24.85461)  \n",
      "4  POINT (31.52084 -24.92107)  \n"
     ]
    }
   ],
   "source": [
    "geo = gpd.GeoDataFrame(some_posts, geometry='geometry', crs=4326)\n",
    "print(geo.head(5))"
   ]
  },
  {
   "cell_type": "code",
   "execution_count": 25,
   "id": "lasting-details",
   "metadata": {},
   "outputs": [],
   "source": [
    "geo.to_file(r\"./Outputs/Kruger_posts.shp\")"
   ]
  },
  {
   "cell_type": "code",
   "execution_count": 32,
   "id": "caroline-holiday",
   "metadata": {},
   "outputs": [
    {
     "data": {
      "image/png": "[encoded data removed]",
      "text/plain": [
       "<Figure size 432x288 with 1 Axes>"
      ]
     },
     "metadata": {
      "needs_background": "light"
     },
     "output_type": "display_data"
    }
   ],
   "source": [
    "geo.plot()\n",
    "plt.title(\"Social Media posts From Kruger National Park\")\n",
    "plt.savefig(r\"./Outputs/Kruger_posts_map.png\")"
   ]
  },
  {
   "cell_type": "markdown",
   "id": "isolated-diana",
   "metadata": {},
   "source": [
    "## Problem 3: What distances individuals travelled?\n",
    "\n",
    "In this problem the aim is to calculate the distance n meters that the individuals have travelled according to the social media posts.\n",
    "\n",
    "* Reproject the data from WGS84 into `EPSG: 32735` (or UTM Zone 35S) to project the data into a metric-based system.\n",
    "* Group the data by userid\n",
    "* Create an empty GeoDataFrame called `movements` with CRS EPSG=32735\n",
    "* For each user\n",
    "    - sort rows by timestamp\n",
    "    - create LineString objects bbased on the points\n",
    "    - add the geometry and the userid into the GeoDataFrame you created in the last step\n",
    "* Calculate the lengths of the lines into a new column called `distance` in `movements` GeoDataFrame.\n",
    "* Save `movements` of into a Shapefile calle `Some_movements.shp`."
   ]
  },
  {
   "cell_type": "code",
   "execution_count": 40,
   "id": "legitimate-active",
   "metadata": {},
   "outputs": [
    {
     "data": {
      "text/plain": [
       "<Projected CRS: EPSG:32735>\n",
       "Name: WGS 84 / UTM zone 35S\n",
       "Axis Info [cartesian]:\n",
       "- E[east]: Easting (metre)\n",
       "- N[north]: Northing (metre)\n",
       "Area of Use:\n",
       "- name: Between 24°E and 30°E, southern hemisphere between 80°S and equator, onshore and offshore. Botswana. Burundi. Democratic Republic of the Congo (Zaire). Rwanda. South Africa. Tanzania. Uganda. Zambia. Zimbabwe.\n",
       "- bounds: (24.0, -80.0, 30.0, 0.0)\n",
       "Coordinate Operation:\n",
       "- name: UTM zone 35S\n",
       "- method: Transverse Mercator\n",
       "Datum: World Geodetic System 1984\n",
       "- Ellipsoid: WGS 84\n",
       "- Prime Meridian: Greenwich"
      ]
     },
     "execution_count": 40,
     "metadata": {},
     "output_type": "execute_result"
    }
   ],
   "source": [
    "geo_proj = geo.to_crs(epsg=32735)\n",
    "\n",
    "geo_proj.crs"
   ]
  },
  {
   "cell_type": "code",
   "execution_count": 58,
   "id": "stunning-carpet",
   "metadata": {},
   "outputs": [],
   "source": [
    "users = geo_proj.groupby(\"userid\")\n",
    "def createLineGeom(coord_list):\n",
    "    try:\n",
    "        return LineString(coord_list)\n",
    "    except:\n",
    "        return False\n",
    "        \n",
    "def getLength(geom_obj):\n",
    "    if isinstance(geom_obj, Polygon):\n",
    "        geom_obj = geom_obj.exterior\n",
    "    \n",
    "    if isinstance(geom_obj, LineString):\n",
    "        return geom_obj.length\n",
    "    else:\n",
    "        print(\"Error: LineString or Polygon geometries required!\")"
   ]
  },
  {
   "cell_type": "code",
   "execution_count": 52,
   "id": "disabled-corrections",
   "metadata": {},
   "outputs": [],
   "source": [
    "#movements = gpd.GeoDataFrame(crs=32735)\n",
    "movements = []\n",
    "for key, values in users:\n",
    "    values.sort_values('timestamp',ascending=True,inplace=True)\n",
    "    movement = createLineGeom(values[\"geometry\"].tolist())\n",
    "    \n",
    "    if movement:\n",
    "        movements.append([key, movement])"
   ]
  },
  {
   "cell_type": "code",
   "execution_count": 53,
   "id": "recorded-color",
   "metadata": {},
   "outputs": [
    {
     "name": "stdout",
     "output_type": "stream",
     "text": [
      "   userid                                           geometry\n",
      "0   16301  LINESTRING (942231.630 7254606.868, 938934.725...\n",
      "1   45136  LINESTRING (905394.500 7193375.148, 905394.500...\n",
      "2   50136  LINESTRING (944551.607 7253384.183, 963788.403...\n",
      "3   88775  LINESTRING (902800.817 7192546.975, 902800.839...\n",
      "4   88918  LINESTRING (959332.961 7219877.715, 963788.403...\n"
     ]
    }
   ],
   "source": [
    "movements = gpd.GeoDataFrame(movements, columns=[\"userid\",\"geometry\"], crs=32735)\n",
    "print(movements.head(5))"
   ]
  },
  {
   "cell_type": "code",
   "execution_count": 60,
   "id": "pediatric-polyester",
   "metadata": {},
   "outputs": [
    {
     "name": "stdout",
     "output_type": "stream",
     "text": [
      "   userid                                           geometry    Distance\n",
      "0   16301  LINESTRING (942231.630 7254606.868, 938934.725...  328.455115\n",
      "1   45136  LINESTRING (905394.500 7193375.148, 905394.500...    0.000000\n",
      "2   50136  LINESTRING (944551.607 7253384.183, 963788.403...  159.189081\n",
      "3   88775  LINESTRING (902800.817 7192546.975, 902800.839...    0.000080\n",
      "4   88918  LINESTRING (959332.961 7219877.715, 963788.403...    9.277252\n"
     ]
    }
   ],
   "source": [
    "movements[\"Distance\"] = movements.apply(lambda x: getLength(x[\"geometry\"])/1000, axis=1)\n",
    "print(movements.head(5))"
   ]
  },
  {
   "cell_type": "code",
   "execution_count": 61,
   "id": "italian-southwest",
   "metadata": {},
   "outputs": [],
   "source": [
    "movements.to_file(r\"./Outputs/Some_movements.shp\")"
   ]
  },
  {
   "cell_type": "code",
   "execution_count": 64,
   "id": "bronze-columbus",
   "metadata": {},
   "outputs": [
    {
     "data": {
      "text/plain": [
       "<Projected CRS: EPSG:32735>\n",
       "Name: WGS 84 / UTM zone 35S\n",
       "Axis Info [cartesian]:\n",
       "- E[east]: Easting (metre)\n",
       "- N[north]: Northing (metre)\n",
       "Area of Use:\n",
       "- name: Between 24°E and 30°E, southern hemisphere between 80°S and equator, onshore and offshore. Botswana. Burundi. Democratic Republic of the Congo (Zaire). Rwanda. South Africa. Tanzania. Uganda. Zambia. Zimbabwe.\n",
       "- bounds: (24.0, -80.0, 30.0, 0.0)\n",
       "Coordinate Operation:\n",
       "- name: UTM zone 35S\n",
       "- method: Transverse Mercator\n",
       "Datum: World Geodetic System 1984\n",
       "- Ellipsoid: WGS 84\n",
       "- Prime Meridian: Greenwich"
      ]
     },
     "execution_count": 64,
     "metadata": {},
     "output_type": "execute_result"
    }
   ],
   "source": [
    "movements.crs"
   ]
  },
  {
   "cell_type": "code",
   "execution_count": 68,
   "id": "gross-louisville",
   "metadata": {},
   "outputs": [
    {
     "name": "stdout",
     "output_type": "stream",
     "text": [
      "The minimum distance traveled was 0.00 meters\n",
      "The mean distance traveled was 107.13 km\n",
      "The maximum distance traveled was 6970.67 km\n"
     ]
    }
   ],
   "source": [
    "print(\"The minimum distance traveled was {:.2f} meters\".format(movements[\"Distance\"].min()*1000))\n",
    "print(\"The mean distance traveled was {:.2f} km\".format(movements[\"Distance\"].mean()))\n",
    "print(\"The maximum distance traveled was {:.2f} km\".format(movements[\"Distance\"].max()))"
   ]
  }
 ],
 "metadata": {
  "kernelspec": {
   "display_name": "Python 3",
   "language": "python",
   "name": "python3"
  },
  "language_info": {
   "codemirror_mode": {
    "name": "ipython",
    "version": 3
   },
   "file_extension": ".py",
   "mimetype": "text/x-python",
   "name": "python",
   "nbconvert_exporter": "python",
   "pygments_lexer": "ipython3",
   "version": "3.6.12"
  }
 },
 "nbformat": 4,
 "nbformat_minor": 5
}
