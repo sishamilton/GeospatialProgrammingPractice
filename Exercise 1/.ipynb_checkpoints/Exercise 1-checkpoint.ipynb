{
 "cells": [
  {
   "cell_type": "code",
   "execution_count": 29,
   "id": "nervous-bosnia",
   "metadata": {},
   "outputs": [],
   "source": [
    "from shapely.geometry import Point, LineString, Polygon\n",
    "from random import random\n",
    "\n",
    "import pandas as pd\n",
    "import sys"
   ]
  },
  {
   "cell_type": "markdown",
   "id": "caroline-development",
   "metadata": {},
   "source": [
    "# Exercise 1\n",
    "## Problem 1\n",
    "1. Create a function called createPointGeom() that has two parameters (x_coord, y_coord). Function should create a shapely Point geometry object and return that. Demonstrate the usage of the function by creating 3 Point objects with the function."
   ]
  },
  {
   "cell_type": "code",
   "execution_count": 8,
   "id": "enclosed-suspension",
   "metadata": {},
   "outputs": [
    {
     "name": "stdout",
     "output_type": "stream",
     "text": [
      "POINT (6.976240236599849 1.083895728840332)\n",
      "POINT (4.347998093255828 4.552857058468898)\n",
      "POINT (0.06031447947591695 6.690747529881146)\n"
     ]
    }
   ],
   "source": [
    "def createPointGeom(x_coord, y_coord):\n",
    "    return Point(x_coord, y_coord)\n",
    "\n",
    "coords = [(10*random(),10*random()) for i in range(3)]\n",
    "points = [createPointGeom(*coord) for coord in coords]\n",
    "for point in points:\n",
    "    print(point)"
   ]
  },
  {
   "cell_type": "markdown",
   "id": "liable-industry",
   "metadata": {},
   "source": [
    "2. Create a function called createLineGeom() that takes a list of Shapely Point objects as a parameter and returns a LineString object of those input points. Ideally, the function should try to check that the input list really contains Shapely Point(s). Demonstrate the usage of the function by creating 2 LineString objects with the function (one with coordinate tuples, and one with a list of shapely Points)."
   ]
  },
  {
   "cell_type": "code",
   "execution_count": 14,
   "id": "missing-encounter",
   "metadata": {},
   "outputs": [
    {
     "name": "stdout",
     "output_type": "stream",
     "text": [
      "LINESTRING (5.550323604104478 8.598422747335162, 6.728366587675957 3.808735273666011) LINESTRING (5.550323604104478 8.598422747335162, 6.728366587675957 3.808735273666011)\n"
     ]
    }
   ],
   "source": [
    "def generateRandomTuple(max_val):\n",
    "    return (max_val*random(),max_val*random())\n",
    "\n",
    "def createLineGeom(coord_list):\n",
    "    try:\n",
    "        return LineString(coord_list)\n",
    "    except AttributeError:\n",
    "        print(\"Invalid Parameters\")\n",
    "        \n",
    "coord_list = [generateRandomTuple(10) for i in range(2)]\n",
    "point_list = [createPointGeom(*coords) for coords in coord_list]\n",
    "coord_line = createLineGeom(coord_list)\n",
    "point_line = createLineGeom(point_list)\n",
    "print(coord_line, point_line)\n",
    "        "
   ]
  },
  {
   "cell_type": "markdown",
   "id": "directed-blackjack",
   "metadata": {},
   "source": [
    "3. Create a function called `createPolyGeom()` that takes a list of coordinate tuples OR a list of Shapely Point objects and creates/returns a Polygon object of the input data. Both ways of passing the data to the function should be working. Demonstrate the usage of the function by passing data first with coordinate-tuples and then with Point objects."
   ]
  },
  {
   "cell_type": "code",
   "execution_count": 15,
   "id": "acting-pickup",
   "metadata": {},
   "outputs": [
    {
     "name": "stdout",
     "output_type": "stream",
     "text": [
      "POLYGON ((3.112838797311332 8.497715328687155, 8.631125568116223 8.194931545218049, 5.34598632580476 9.313919058278138, 2.494585703068453 2.985134810312037, 3.112838797311332 8.497715328687155)) \n",
      " POLYGON ((3.112838797311332 8.497715328687155, 8.631125568116223 8.194931545218049, 5.34598632580476 9.313919058278138, 2.494585703068453 2.985134810312037, 3.112838797311332 8.497715328687155))\n"
     ]
    }
   ],
   "source": [
    "def createPolyGeom(vertices):\n",
    "    if isinstance(vertices[0], shapely.geometry.point.Point):\n",
    "        vertices = [(vertex.x,vertex.y) for vertex in vertices]\n",
    "    try:\n",
    "        return Polygon(vertices)\n",
    "    except AttributeError:\n",
    "        print(\"Invalid Parameters\")\n",
    "\n",
    "coords_list = [generateRandomTuple(10) for i in range(4)]\n",
    "points_list = [createPointGeom(*coords) for coords in coords_list]\n",
    "\n",
    "coord_poly = createPolyGeom(coords_list)\n",
    "point_poly = createPolyGeom(points_list)\n",
    "\n",
    "print(coord_poly, '\\n', point_poly)"
   ]
  },
  {
   "cell_type": "markdown",
   "id": "requested-assets",
   "metadata": {},
   "source": [
    "## Problem 2: Attributes of geometries\n",
    "1. Create a function called `getCentroid()` that takes any kind of Shapely's geometric object as input and returns a centroid of that geometry. Demonstrate the usage of the function."
   ]
  },
  {
   "cell_type": "code",
   "execution_count": 20,
   "id": "indian-congress",
   "metadata": {},
   "outputs": [
    {
     "name": "stdout",
     "output_type": "stream",
     "text": [
      "Point Centroid:  POINT (5.550226027936444 8.486394344126174)\n",
      "Line Centroid:  POINT (5.675232392689801 3.328267007365075)\n",
      "Poly Centroid:  POINT (9.134778804967437 7.477890418709817)\n"
     ]
    }
   ],
   "source": [
    "def getCentroid(geom_obj):\n",
    "    try:\n",
    "        return geom_obj.centroid\n",
    "    except AttributeError:\n",
    "        print(\"Invalid Operation\")\n",
    "        \n",
    "#Generate Some Coords\n",
    "coords = [generateRandomTuple(10) for i in range(4)]\n",
    "#Make a few geometric objects\n",
    "point = Point(coords[0])\n",
    "line = createLineGeom(coords)\n",
    "poly = createPolyGeom(coords)\n",
    "print(\"Point Centroid: \", getCentroid(point))\n",
    "print(\"Line Centroid: \", getCentroid(line))\n",
    "print(\"Poly Centroid: \", getCentroid(poly))"
   ]
  },
  {
   "cell_type": "markdown",
   "id": "widespread-tribune",
   "metadata": {},
   "source": [
    "2. Create a function called `getArea()` that takes a Shapely Polygon object as input and returns the area of that geometry. Demonstrate the usage of the function."
   ]
  },
  {
   "cell_type": "code",
   "execution_count": 21,
   "id": "posted-inclusion",
   "metadata": {},
   "outputs": [
    {
     "name": "stdout",
     "output_type": "stream",
     "text": [
      "Polygon Area =  0.6765937797065957\n"
     ]
    }
   ],
   "source": [
    "def getArea(poly):\n",
    "    try:\n",
    "        return poly.area\n",
    "    except AttributeError:\n",
    "        print(\"Invalid Operation\")\n",
    "        \n",
    "print(\"Polygon Area = \", getArea(poly))"
   ]
  },
  {
   "cell_type": "markdown",
   "id": "detailed-median",
   "metadata": {},
   "source": [
    "3. Create a function called `getLength()` that takes either a Shapely LineString or a Polygon object as input. Function should check the type of the input and returns the length of the line if input is LineString and length of the exterior ring if the input is Polygon. If something else is passed to the function, it should tell the user -> `\"Error: LineString or Polygon geometries required!\"`. Demonstrate the usage of the function."
   ]
  },
  {
   "cell_type": "code",
   "execution_count": 24,
   "id": "enhanced-yeast",
   "metadata": {},
   "outputs": [
    {
     "data": {
      "text/plain": [
       "shapely.geometry.linestring.LineString"
      ]
     },
     "execution_count": 24,
     "metadata": {},
     "output_type": "execute_result"
    }
   ],
   "source": [
    "type(line)"
   ]
  },
  {
   "cell_type": "code",
   "execution_count": 28,
   "id": "international-arnold",
   "metadata": {
    "scrolled": true
   },
   "outputs": [
    {
     "name": "stdout",
     "output_type": "stream",
     "text": [
      "Points don't have a length.\n",
      "Error: LineString or Polygon geometries required!\n",
      "Line Length =  18.7777770972783\n",
      "Poly Perimeter =  26.41780139719888\n"
     ]
    }
   ],
   "source": [
    "def getLength(geom_obj):\n",
    "    if isinstance(geom_obj, shapely.geometry.polygon.Polygon):\n",
    "        geom_obj = geom_obj.exterior\n",
    "    \n",
    "    if isinstance(geom_obj, shapely.geometry.linestring.LineString):\n",
    "        return geom_obj.length\n",
    "    else:\n",
    "        print(\"Error: LineString or Polygon geometries required!\")\n",
    "        \n",
    "\n",
    "print(\"Points don't have a length.\")\n",
    "sys.stdout.flush()\n",
    "getLength(point)\n",
    "print(\"Line Length = \", getLength(line))\n",
    "print(\"Poly Perimeter = \", getLength(poly))"
   ]
  },
  {
   "cell_type": "markdown",
   "id": "least-nevada",
   "metadata": {},
   "source": [
    "## Problem 3: Reading coordinates from a file and creating geometries\n",
    "\n",
    "   From `travelTimes_2015_Helsinki.txt`, create a set of `orig_points` and `dest_points` using `from_x`, `from_y`, `to_x`, and `to_y` columns."
   ]
  },
  {
   "cell_type": "code",
   "execution_count": 47,
   "id": "ranging-forth",
   "metadata": {},
   "outputs": [
    {
     "name": "stdout",
     "output_type": "stream",
     "text": [
      "24.9704379\n"
     ]
    }
   ],
   "source": [
    "#load data\n",
    "travel_times = pd.read_csv(\"./Resources/travelTimes_2015_Helsinki.txt\", sep=\";\")\n",
    "print(travel_times['from_x'][0])"
   ]
  },
  {
   "cell_type": "code",
   "execution_count": 52,
   "id": "compound-warner",
   "metadata": {
    "scrolled": false
   },
   "outputs": [
    {
     "name": "stdout",
     "output_type": "stream",
     "text": [
      "   from_id    to_id      fromid_toid  route_number     at     from_x  \\\n",
      "0  5861326  5785640  5861326_5785640             1  08:10  24.970438   \n",
      "1  5861326  5785641  5861326_5785641             1  08:10  24.970438   \n",
      "2  5861326  5785642  5861326_5785642             1  08:10  24.970438   \n",
      "3  5861326  5785643  5861326_5785643             1  08:10  24.970438   \n",
      "4  5861326  5787544  5861326_5787544             1  08:10  24.970438   \n",
      "\n",
      "      from_y       to_x       to_y  total_route_time  route_time  \\\n",
      "0  60.311917  24.856034  60.399941             125.0        99.0   \n",
      "1  60.311917  24.860568  60.400014             123.0       102.0   \n",
      "2  60.311917  24.865102  60.400086             125.0       103.0   \n",
      "3  60.311917  24.869636  60.400159             129.0       107.0   \n",
      "4  60.311917  24.842582  60.397478             118.0        92.0   \n",
      "\n",
      "   route_distance  route_total_lines                    orig_points  \\\n",
      "0         22917.6                2.0  POINT (24.9704379 60.3119173)   \n",
      "1         23123.5                2.0  POINT (24.9704379 60.3119173)   \n",
      "2         23241.3                2.0  POINT (24.9704379 60.3119173)   \n",
      "3         23534.2                2.0  POINT (24.9704379 60.3119173)   \n",
      "4         22428.2                2.0  POINT (24.9704379 60.3119173)   \n",
      "\n",
      "                            dest_points  \n",
      "0         POINT (24.8560344 60.3999406)  \n",
      "1         POINT (24.8605682 60.4000135)  \n",
      "2          POINT (24.865102 60.4000863)  \n",
      "3         POINT (24.8696358 60.4001589)  \n",
      "4  POINT (24.8425817 60.39747779999999)  \n"
     ]
    }
   ],
   "source": [
    "#Apply createPointGeom to create points\n",
    "travel_times[\"orig_points\"] = travel_times.apply(lambda x: createPointGeom(x['from_x'],x['from_y']), axis=1)\n",
    "travel_times[\"dest_points\"] = travel_times.apply(lambda x: createPointGeom(x['to_x'],x['to_y']), axis=1)\n",
    "print(travel_times.head(5))"
   ]
  },
  {
   "cell_type": "markdown",
   "id": "hearing-commissioner",
   "metadata": {},
   "source": [
    "## Problem 4: Creating LineStrings that represent the movements\n",
    "\n",
    "1. Create an additional column called `lines`: Iterates over the dataframe again, row by row, and use the origin and destination fields from above and create a Shapely LineString object between the origin and destination point.\n",
    "2. Find out what the average Euclidian distance of all the origin-destination LineStrings that we just created, and print it."
   ]
  },
  {
   "cell_type": "code",
   "execution_count": 53,
   "id": "injured-liechtenstein",
   "metadata": {},
   "outputs": [
    {
     "name": "stdout",
     "output_type": "stream",
     "text": [
      "0    LINESTRING (24.9704379 60.3119173, 24.8560344 ...\n",
      "1    LINESTRING (24.9704379 60.3119173, 24.8605682 ...\n",
      "2    LINESTRING (24.9704379 60.3119173, 24.865102 6...\n",
      "3    LINESTRING (24.9704379 60.3119173, 24.8696358 ...\n",
      "4    LINESTRING (24.9704379 60.3119173, 24.8425817 ...\n",
      "Name: lines, dtype: object\n"
     ]
    }
   ],
   "source": [
    "#Create column\n",
    "travel_times[\"lines\"] = travel_times.apply(lambda x: createLineGeom([x[\"orig_points\"],x[\"dest_points\"]]), axis=1)\n",
    "print(travel_times[\"lines\"].head(5))"
   ]
  },
  {
   "cell_type": "code",
   "execution_count": 54,
   "id": "assured-corruption",
   "metadata": {},
   "outputs": [
    {
     "name": "stdout",
     "output_type": "stream",
     "text": [
      "0    0.144348\n",
      "1    0.140827\n",
      "2    0.137366\n",
      "3    0.133969\n",
      "4    0.153843\n",
      "Name: Euclid Dist, dtype: float64\n",
      "0.2150222482322721\n"
     ]
    }
   ],
   "source": [
    "#Find average\n",
    "#First add the Euclidian distance for each route as a column\n",
    "travel_times[\"Euclid Dist\"] = travel_times.apply(lambda x: x[\"lines\"].length, axis=1)\n",
    "#Print mean\n",
    "print(travel_times[\"Euclid Dist\"].head(5))\n",
    "print(travel_times[\"Euclid Dist\"].mean())"
   ]
  }
 ],
 "metadata": {
  "kernelspec": {
   "display_name": "Python 3",
   "language": "python",
   "name": "python3"
  },
  "language_info": {
   "codemirror_mode": {
    "name": "ipython",
    "version": 3
   },
   "file_extension": ".py",
   "mimetype": "text/x-python",
   "name": "python",
   "nbconvert_exporter": "python",
   "pygments_lexer": "ipython3",
   "version": "3.6.12"
  }
 },
 "nbformat": 4,
 "nbformat_minor": 5
}
